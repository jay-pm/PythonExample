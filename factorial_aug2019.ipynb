{
  "nbformat": 4,
  "nbformat_minor": 0,
  "metadata": {
    "colab": {
      "name": "factorial_aug2019.ipynb",
      "version": "0.3.2",
      "provenance": [],
      "collapsed_sections": [],
      "include_colab_link": true
    },
    "kernelspec": {
      "name": "python3",
      "display_name": "Python 3"
    }
  },
  "cells": [
    {
      "cell_type": "markdown",
      "metadata": {
        "id": "view-in-github",
        "colab_type": "text"
      },
      "source": [
        "<a href=\"https://colab.research.google.com/github/jay-pm/PythonExample/blob/master/factorial_aug2019.ipynb\" target=\"_parent\"><img src=\"https://colab.research.google.com/assets/colab-badge.svg\" alt=\"Open In Colab\"/></a>"
      ]
    },
    {
      "cell_type": "markdown",
      "metadata": {
        "id": "Honwdyz7Xeq4",
        "colab_type": "text"
      },
      "source": [
        "\n",
        "\n",
        "The factorial of a positive integer n, denoted by n!, is the product of all positive integers less than or equal to n.\n",
        "\n",
        "Ex: factorial of 3\n",
        "= 3 * 2 * 1\n",
        "= 3 * 2!\n",
        "= 3 * (3-1)!\n",
        "\n",
        "hence factorial of n is n*(n-1)!\n",
        "\n",
        "Factorial of zero is 1\n",
        "\n",
        "more info: https://en.wikipedia.org/wiki/Factorial\n"
      ]
    },
    {
      "cell_type": "code",
      "metadata": {
        "id": "ZpCUIUZW_xhb",
        "colab_type": "code",
        "outputId": "79428946-d48e-429f-9c81-1ed0b4b463a1",
        "colab": {
          "base_uri": "https://localhost:8080/",
          "height": 72
        }
      },
      "source": [
        "# Factorial with iterative method\n",
        "\n",
        "n = input(\"Enter number: \") # input takes entries as string\n",
        "print(type(n))\n",
        "\n",
        "result=1\n",
        "for i in range(int(n),0,-1):\n",
        "  result=result*i # for number = 5, itr1: 1*5, itr2: 5*4, itr3: 20*3, itr4: 60*2, itr5: 120*1\n",
        "print(\"factorial of \", n, \"is \", result)"
      ],
      "execution_count": 0,
      "outputs": [
        {
          "output_type": "stream",
          "text": [
            "Enter number: 10\n",
            "<class 'str'>\n",
            "factorial of  10 is  3628800\n"
          ],
          "name": "stdout"
        }
      ]
    },
    {
      "cell_type": "code",
      "metadata": {
        "id": "kPiVnLx2AXV6",
        "colab_type": "code",
        "outputId": "84ee5fc3-7717-497a-dd91-41916e8e68a9",
        "colab": {
          "base_uri": "https://localhost:8080/",
          "height": 34
        }
      },
      "source": [
        "# Factorial using recursive method\n",
        "\n",
        "def fact(n):\n",
        "  if n==0: # base case\n",
        "    return 1\n",
        "  else:\n",
        "    return n * fact(n-1) # recursive case\n",
        "\n",
        "print(\"Factorial of \", n, \"is \", fact(int(n)))\n",
        "\n",
        "\n",
        "#fact(3)\n",
        "#3*fact(3-1)\n",
        "#3*2*fact(1)\n",
        "#3*2*1*fact(0)\n",
        "#3*2*1*1 # for fact(0) it reaches base case i.e. function returns 1"
      ],
      "execution_count": 26,
      "outputs": [
        {
          "output_type": "stream",
          "text": [
            "Factorial of  10 is  3628800\n"
          ],
          "name": "stdout"
        }
      ]
    },
    {
      "cell_type": "code",
      "metadata": {
        "id": "OgRpQndQB5B7",
        "colab_type": "code",
        "outputId": "167aa660-f416-49d8-c2af-6c84d0042740",
        "colab": {
          "base_uri": "https://localhost:8080/",
          "height": 35
        }
      },
      "source": [
        "1*2*3*4*5*6*7*8*9*10"
      ],
      "execution_count": 0,
      "outputs": [
        {
          "output_type": "execute_result",
          "data": {
            "text/plain": [
              "3628800"
            ]
          },
          "metadata": {
            "tags": []
          },
          "execution_count": 19
        }
      ]
    }
  ]
}